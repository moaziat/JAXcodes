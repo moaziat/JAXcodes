{
  "nbformat": 4,
  "nbformat_minor": 0,
  "metadata": {
    "colab": {
      "provenance": [],
      "gpuType": "T4"
    },
    "kernelspec": {
      "name": "python3",
      "display_name": "Python 3"
    },
    "language_info": {
      "name": "python"
    },
    "accelerator": "GPU"
  },
  "cells": [
    {
      "cell_type": "code",
      "execution_count": 1,
      "metadata": {
        "id": "ZRsV29rygZZf"
      },
      "outputs": [],
      "source": [
        "import jax"
      ]
    },
    {
      "cell_type": "markdown",
      "source": [
        "# Functional Programming Foundations in JAX\n",
        "\n",
        "In the *core_jax*  notebook we introduced pure functions, array immutability in jax. Now we're going to dive a little bit more into this concepts and we're going to introduce Functional State Management in JAX."
      ],
      "metadata": {
        "id": "CoMO1TgogwzI"
      }
    },
    {
      "cell_type": "markdown",
      "source": [
        "**Immutability**: means that once an object is created, it cannot be modified. In JAX, arrays are immutable. Instead we create new arrays with the desired changes"
      ],
      "metadata": {
        "id": "qhAS1B9fhvQI"
      }
    },
    {
      "cell_type": "markdown",
      "source": [
        "**Managing State Functionally**:State is managed explicitly rather than implicitly. In JAX this is done by: Passing state as args to functions, and returning new state as part of the function's output.\n"
      ],
      "metadata": {
        "id": "QG_-YoSfiL2x"
      }
    },
    {
      "cell_type": "code",
      "source": [
        "def normalizer(S, norm_factor):\n",
        "  normalized_S = S / norm_factor\n",
        "  return normalized_S\n",
        "\n",
        "#Initial state S\n",
        "S = 1337\n",
        "#Apply updates\n",
        "S = normalizer(S, 10)\n",
        "S"
      ],
      "metadata": {
        "colab": {
          "base_uri": "https://localhost:8080/"
        },
        "id": "P2iXnqFNgh8a",
        "outputId": "5606017c-2960-4349-d818-b3c8840081a1"
      },
      "execution_count": 2,
      "outputs": [
        {
          "output_type": "execute_result",
          "data": {
            "text/plain": [
              "133.7"
            ]
          },
          "metadata": {},
          "execution_count": 2
        }
      ]
    },
    {
      "cell_type": "markdown",
      "source": [
        "# Combining Immutability and State Management\n",
        "In JAX, we often need to manage complex state. It is something **crucial** to understand.For example managing a simple ML model Parameters"
      ],
      "metadata": {
        "id": "3NUseVaskNTU"
      }
    },
    {
      "cell_type": "code",
      "source": [
        "import jax.numpy as jnp\n",
        "\n",
        "def model(params, x):\n",
        "  w, b = params\n",
        "  return jnp.dot(x, w) + b # y = X.W + b\n",
        "\n",
        "# Let's initialize parameters (same as S in the prev. example, stat init)\n",
        "params = (jnp.array([1.0, 2.0]), jnp.array([3.0])) #(w, b)\n",
        "\n",
        "def update_params(params, grads, lr):\n",
        "  w, b = params\n",
        "  dw, db = grads\n",
        "  new_w = w - lr * dw\n",
        "  new_b = b - lr * db\n",
        "  return (new_w, new_b)\n",
        "\n",
        "# Example of gradients (arbitrary)\n",
        "grads = (jnp.array([0.1, 0.2]), jnp.array(0.4))\n",
        "\n",
        "#now we update the parameters (Updating the state )\n",
        "new_params = update_params(params, grads, lr=0.1)\n",
        "new_params"
      ],
      "metadata": {
        "colab": {
          "base_uri": "https://localhost:8080/"
        },
        "id": "a7FPprpVkjM1",
        "outputId": "cd2059e6-73ca-422a-c0d0-a78339d24b86"
      },
      "execution_count": 3,
      "outputs": [
        {
          "output_type": "execute_result",
          "data": {
            "text/plain": [
              "(Array([0.99, 1.98], dtype=float32), Array([2.96], dtype=float32))"
            ]
          },
          "metadata": {},
          "execution_count": 3
        }
      ]
    },
    {
      "cell_type": "markdown",
      "source": [
        "# Function Transformations\n",
        "Function transformations are the magic spell of jax. function -> Transformation -> new_function with enhanced capabilities.\n",
        "In this section we're going to handle 4 key transformations:\n",
        "- **grad**\n",
        "- **jit**\n",
        "- **vmap**\n",
        "- **pmap**\n"
      ],
      "metadata": {
        "id": "FhPMZgCenSHX"
      }
    },
    {
      "cell_type": "code",
      "source": [
        "#----- grad: Automatic differentiation\n",
        "\n",
        "def f(x):\n",
        "  return 3.0 * x**2+ 2.0*x + 15.0\n",
        "'''\n",
        "To compute the gradient (derivative) of this manually with respect to x\n",
        "df/dx  = (3*2)x + 2 = 6x + 2\n",
        "At x = 1.0 --> df/dx = 6.0 + 2.0 = 8.0\n",
        "'''\n",
        "#Let's use AD with jax.grad and verify\n",
        "\n",
        "df_dx = jax.grad(f)\n",
        "\n",
        "print(df_dx(1.0))"
      ],
      "metadata": {
        "colab": {
          "base_uri": "https://localhost:8080/"
        },
        "id": "XmauyPsxncjl",
        "outputId": "8b3cd113-86fd-4c87-cb48-1bed3250c108"
      },
      "execution_count": 4,
      "outputs": [
        {
          "output_type": "stream",
          "name": "stdout",
          "text": [
            "8.0\n"
          ]
        }
      ]
    },
    {
      "cell_type": "code",
      "source": [
        "#What if we want 2nd derivative? we simply do grad(grad(f))\n",
        "#manually d2f_dx2 = 6.0 a constant -> the 3rd derivative should be equal to 0\n",
        "\n",
        "d2f_dx2 = jax.grad(jax.grad(f))\n",
        "print(d2f_dx2(1.0))\n",
        "\n",
        "#3rd derivative [ df/dx(d2f/dx2)] or grad(grad(grad(f)))\n",
        "d3f_dx3 = jax.grad(d2f_dx2)\n",
        "print(d3f_dx3(1.0)) #--> 0.0"
      ],
      "metadata": {
        "colab": {
          "base_uri": "https://localhost:8080/"
        },
        "id": "icLGLKFCkjKC",
        "outputId": "c8270c44-986a-4f2e-bc43-5f27c8ac13aa"
      },
      "execution_count": 5,
      "outputs": [
        {
          "output_type": "stream",
          "name": "stdout",
          "text": [
            "6.0\n",
            "0.0\n"
          ]
        }
      ]
    },
    {
      "cell_type": "markdown",
      "source": [
        "## JIT\n",
        "In the introductory Notebook we use JIT. It's important to understand how JIT handles control flow, and dynamic control flow."
      ],
      "metadata": {
        "id": "KU8agXxRq8jq"
      }
    },
    {
      "cell_type": "code",
      "source": [
        "@jax.jit\n",
        "def static_fn(x):\n",
        "  return x**2\n",
        "\n",
        "static_fn(1)"
      ],
      "metadata": {
        "colab": {
          "base_uri": "https://localhost:8080/"
        },
        "id": "ifjOwiy4qApT",
        "outputId": "83ce5485-5998-4bbb-9764-a8ae68dbe503"
      },
      "execution_count": 6,
      "outputs": [
        {
          "output_type": "execute_result",
          "data": {
            "text/plain": [
              "Array(1, dtype=int32, weak_type=True)"
            ]
          },
          "metadata": {},
          "execution_count": 6
        }
      ]
    },
    {
      "cell_type": "code",
      "source": [
        "@jax.jit\n",
        "def dynamic_fn(x, cond):\n",
        "  if cond:\n",
        "    return x**2\n",
        "  else:\n",
        "    return x**3\n",
        "dynamic_fn(1, True) #--> This throws an error because cond affects control flow"
      ],
      "metadata": {
        "colab": {
          "base_uri": "https://localhost:8080/",
          "height": 584
        },
        "id": "QTQBIE9gr2XR",
        "outputId": "44db2c2f-558d-49a0-8dc6-55269e9a7da5"
      },
      "execution_count": 7,
      "outputs": [
        {
          "output_type": "error",
          "ename": "TracerBoolConversionError",
          "evalue": "Attempted boolean conversion of traced array with shape bool[].\nThe error occurred while tracing the function dynamic_fn at <ipython-input-7-47260f41b174>:1 for jit. This concrete value was not available in Python because it depends on the value of the argument cond.\nSee https://jax.readthedocs.io/en/latest/errors.html#jax.errors.TracerBoolConversionError",
          "traceback": [
            "\u001b[0;31m---------------------------------------------------------------------------\u001b[0m",
            "\u001b[0;31mTracerBoolConversionError\u001b[0m                 Traceback (most recent call last)",
            "\u001b[0;32m<ipython-input-7-47260f41b174>\u001b[0m in \u001b[0;36m<cell line: 0>\u001b[0;34m()\u001b[0m\n\u001b[1;32m      5\u001b[0m   \u001b[0;32melse\u001b[0m\u001b[0;34m:\u001b[0m\u001b[0;34m\u001b[0m\u001b[0;34m\u001b[0m\u001b[0m\n\u001b[1;32m      6\u001b[0m     \u001b[0;32mreturn\u001b[0m \u001b[0mx\u001b[0m\u001b[0;34m**\u001b[0m\u001b[0;36m3\u001b[0m\u001b[0;34m\u001b[0m\u001b[0;34m\u001b[0m\u001b[0m\n\u001b[0;32m----> 7\u001b[0;31m \u001b[0mdynamic_fn\u001b[0m\u001b[0;34m(\u001b[0m\u001b[0;36m1\u001b[0m\u001b[0;34m,\u001b[0m \u001b[0;32mTrue\u001b[0m\u001b[0;34m)\u001b[0m \u001b[0;31m#--> This throws an error because cond affects control flow\u001b[0m\u001b[0;34m\u001b[0m\u001b[0;34m\u001b[0m\u001b[0m\n\u001b[0m",
            "    \u001b[0;31m[... skipping hidden 11 frame]\u001b[0m\n",
            "\u001b[0;32m<ipython-input-7-47260f41b174>\u001b[0m in \u001b[0;36mdynamic_fn\u001b[0;34m(x, cond)\u001b[0m\n\u001b[1;32m      1\u001b[0m \u001b[0;34m@\u001b[0m\u001b[0mjax\u001b[0m\u001b[0;34m.\u001b[0m\u001b[0mjit\u001b[0m\u001b[0;34m\u001b[0m\u001b[0;34m\u001b[0m\u001b[0m\n\u001b[1;32m      2\u001b[0m \u001b[0;32mdef\u001b[0m \u001b[0mdynamic_fn\u001b[0m\u001b[0;34m(\u001b[0m\u001b[0mx\u001b[0m\u001b[0;34m,\u001b[0m \u001b[0mcond\u001b[0m\u001b[0;34m)\u001b[0m\u001b[0;34m:\u001b[0m\u001b[0;34m\u001b[0m\u001b[0;34m\u001b[0m\u001b[0m\n\u001b[0;32m----> 3\u001b[0;31m   \u001b[0;32mif\u001b[0m \u001b[0mcond\u001b[0m\u001b[0;34m:\u001b[0m\u001b[0;34m\u001b[0m\u001b[0;34m\u001b[0m\u001b[0m\n\u001b[0m\u001b[1;32m      4\u001b[0m     \u001b[0;32mreturn\u001b[0m \u001b[0mx\u001b[0m\u001b[0;34m**\u001b[0m\u001b[0;36m2\u001b[0m\u001b[0;34m\u001b[0m\u001b[0;34m\u001b[0m\u001b[0m\n\u001b[1;32m      5\u001b[0m   \u001b[0;32melse\u001b[0m\u001b[0;34m:\u001b[0m\u001b[0;34m\u001b[0m\u001b[0;34m\u001b[0m\u001b[0m\n",
            "    \u001b[0;31m[... skipping hidden 1 frame]\u001b[0m\n",
            "\u001b[0;32m/usr/local/lib/python3.11/dist-packages/jax/_src/core.py\u001b[0m in \u001b[0;36merror\u001b[0;34m(self, arg)\u001b[0m\n\u001b[1;32m   1536\u001b[0m   \u001b[0;32mif\u001b[0m \u001b[0mfun\u001b[0m \u001b[0;32mis\u001b[0m \u001b[0mbool\u001b[0m\u001b[0;34m:\u001b[0m\u001b[0;34m\u001b[0m\u001b[0;34m\u001b[0m\u001b[0m\n\u001b[1;32m   1537\u001b[0m     \u001b[0;32mdef\u001b[0m \u001b[0merror\u001b[0m\u001b[0;34m(\u001b[0m\u001b[0mself\u001b[0m\u001b[0;34m,\u001b[0m \u001b[0marg\u001b[0m\u001b[0;34m)\u001b[0m\u001b[0;34m:\u001b[0m\u001b[0;34m\u001b[0m\u001b[0;34m\u001b[0m\u001b[0m\n\u001b[0;32m-> 1538\u001b[0;31m       \u001b[0;32mraise\u001b[0m \u001b[0mTracerBoolConversionError\u001b[0m\u001b[0;34m(\u001b[0m\u001b[0marg\u001b[0m\u001b[0;34m)\u001b[0m\u001b[0;34m\u001b[0m\u001b[0;34m\u001b[0m\u001b[0m\n\u001b[0m\u001b[1;32m   1539\u001b[0m   \u001b[0;32melif\u001b[0m \u001b[0mfun\u001b[0m \u001b[0;32min\u001b[0m \u001b[0;34m(\u001b[0m\u001b[0mhex\u001b[0m\u001b[0;34m,\u001b[0m \u001b[0moct\u001b[0m\u001b[0;34m,\u001b[0m \u001b[0moperator\u001b[0m\u001b[0;34m.\u001b[0m\u001b[0mindex\u001b[0m\u001b[0;34m)\u001b[0m\u001b[0;34m:\u001b[0m\u001b[0;34m\u001b[0m\u001b[0;34m\u001b[0m\u001b[0m\n\u001b[1;32m   1540\u001b[0m     \u001b[0;32mdef\u001b[0m \u001b[0merror\u001b[0m\u001b[0;34m(\u001b[0m\u001b[0mself\u001b[0m\u001b[0;34m,\u001b[0m \u001b[0marg\u001b[0m\u001b[0;34m)\u001b[0m\u001b[0;34m:\u001b[0m\u001b[0;34m\u001b[0m\u001b[0;34m\u001b[0m\u001b[0m\n",
            "\u001b[0;31mTracerBoolConversionError\u001b[0m: Attempted boolean conversion of traced array with shape bool[].\nThe error occurred while tracing the function dynamic_fn at <ipython-input-7-47260f41b174>:1 for jit. This concrete value was not available in Python because it depends on the value of the argument cond.\nSee https://jax.readthedocs.io/en/latest/errors.html#jax.errors.TracerBoolConversionError"
          ]
        }
      ]
    },
    {
      "cell_type": "code",
      "source": [
        " #In order to solve the problem of dynamic control flow in jax\n",
        " #We should Mark 'cond' as a static argument with @partial\n",
        "\n",
        "from functools import partial\n",
        "@partial(jax.jit, static_argnames=['cond'])\n",
        "def dynamic_fn(x, cond):\n",
        "  if cond:\n",
        "    return x**2\n",
        "  else:\n",
        "    return x**3\n",
        "dynamic_fn(1, True) # Now it works just fine"
      ],
      "metadata": {
        "colab": {
          "base_uri": "https://localhost:8080/"
        },
        "id": "9al-ffelr_qK",
        "outputId": "96347cf0-cf66-4b81-f05b-6cfc42fab340"
      },
      "execution_count": 8,
      "outputs": [
        {
          "output_type": "execute_result",
          "data": {
            "text/plain": [
              "Array(1, dtype=int32, weak_type=True)"
            ]
          },
          "metadata": {},
          "execution_count": 8
        }
      ]
    },
    {
      "cell_type": "markdown",
      "source": [
        "## vmap: Automatic Vecotrization\n",
        "**vmap** (vectorizing map) automatically vectorizes a function, allowing it to operate on batches of inputs without explicit loops.\n"
      ],
      "metadata": {
        "id": "CFLhvTjgth_H"
      }
    },
    {
      "cell_type": "code",
      "source": [
        "# Let's say we want to vectorize this function\n",
        "def predict(params, x):\n",
        "    w, b = params\n",
        "    return jnp.dot(x, w) + b\n",
        "\n",
        "#Vectorize it over a batch of inputs\n",
        "batch_predict = jax.vmap(predict, in_axes=(None, 0))\n",
        "\n",
        "# Apply to a batch\n",
        "params = (jnp.array([1.0, 2.0]), jnp.array(0.0))\n",
        "batch_x = jnp.array([[1.0, 2.0], [3.0, 4.0]])  # Batch of 2 examples\n",
        "\n",
        "\n",
        "\n",
        "\n",
        "'''\n",
        "Instead of iterating over the elements of batch_x and append the result\n",
        "at each iterations, we just make the vectorized function swallow batch_x and\n",
        "iterate over it without needing a loop\n",
        "'''\n",
        "\n",
        "print(batch_predict(params, batch_x))\n"
      ],
      "metadata": {
        "colab": {
          "base_uri": "https://localhost:8080/"
        },
        "id": "UeigJPVasl6E",
        "outputId": "7622d8b1-9ce1-429a-aa2f-1c68b23f9b38"
      },
      "execution_count": 9,
      "outputs": [
        {
          "output_type": "stream",
          "name": "stdout",
          "text": [
            "[ 5. 11.]\n"
          ]
        }
      ]
    },
    {
      "cell_type": "markdown",
      "source": [
        "## pmap : Parallel Device Computation:\n",
        "pmap distributes computation across multiple devices. It splits inputs across devices and performs computations in parallel"
      ],
      "metadata": {
        "id": "whdfkNCLvbVz"
      }
    },
    {
      "cell_type": "code",
      "source": [
        "def f(x):\n",
        "  return jnp.exp(x**2 + 1)\n",
        "\n",
        "parallel_f = jax.pmap(f)\n",
        "devices = jax.devices()\n",
        "x = jnp.arange(8).reshape(len(devices), -1) #Split across devices\n",
        "\n",
        "print(x)"
      ],
      "metadata": {
        "colab": {
          "base_uri": "https://localhost:8080/"
        },
        "id": "atAoy208v1Vh",
        "outputId": "7480c280-fdc2-4c2c-a92f-e77093fad8fb"
      },
      "execution_count": 10,
      "outputs": [
        {
          "output_type": "stream",
          "name": "stdout",
          "text": [
            "[[0 1 2 3 4 5 6 7]]\n"
          ]
        }
      ]
    },
    {
      "cell_type": "markdown",
      "source": [],
      "metadata": {
        "id": "hGUwEnsSt7Vf"
      }
    }
  ]
}