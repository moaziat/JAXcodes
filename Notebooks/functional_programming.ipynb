{
  "nbformat": 4,
  "nbformat_minor": 0,
  "metadata": {
    "colab": {
      "provenance": []
    },
    "kernelspec": {
      "name": "python3",
      "display_name": "Python 3"
    },
    "language_info": {
      "name": "python"
    }
  },
  "cells": [
    {
      "cell_type": "code",
      "execution_count": 1,
      "metadata": {
        "id": "ZRsV29rygZZf"
      },
      "outputs": [],
      "source": [
        "import jax"
      ]
    },
    {
      "cell_type": "markdown",
      "source": [
        "# Functional Programming Foundations in JAX\n",
        "\n",
        "In the *core_jax*  notebook we introduced pure functions, array immutability in jax. Now we're going to dive a little bit more into this concepts and we're going to introduce Functional State Management in JAX."
      ],
      "metadata": {
        "id": "CoMO1TgogwzI"
      }
    },
    {
      "cell_type": "markdown",
      "source": [
        "**Immutability**: means that once an object is created, it cannot be modified. In JAX, arrays are immutable. Instead we create new arrays with the desired changes"
      ],
      "metadata": {
        "id": "qhAS1B9fhvQI"
      }
    },
    {
      "cell_type": "markdown",
      "source": [
        "**Managing State Functionally**:State is managed explicitly rather than implicitly. In JAX this is done by: Passing state as args to functions, and returning new state as part of the function's output.\n"
      ],
      "metadata": {
        "id": "QG_-YoSfiL2x"
      }
    },
    {
      "cell_type": "code",
      "source": [
        "def normalizer(S, norm_factor):\n",
        "  normalized_S = S / norm_factor\n",
        "  return normalized_S\n",
        "\n",
        "#Initial state S\n",
        "S = 1337\n",
        "#Apply updates\n",
        "S = normalizer(S, 10)\n",
        "S"
      ],
      "metadata": {
        "colab": {
          "base_uri": "https://localhost:8080/"
        },
        "id": "P2iXnqFNgh8a",
        "outputId": "a868fdd7-c815-436d-dc75-349611f25518"
      },
      "execution_count": 3,
      "outputs": [
        {
          "output_type": "execute_result",
          "data": {
            "text/plain": [
              "133.7"
            ]
          },
          "metadata": {},
          "execution_count": 3
        }
      ]
    },
    {
      "cell_type": "markdown",
      "source": [
        "# Combining Immutability and State Management\n",
        "In JAX, we often need to manage complex state. It is something **crucial** to understand.For example managing a simple ML model Parameters"
      ],
      "metadata": {
        "id": "3NUseVaskNTU"
      }
    },
    {
      "cell_type": "code",
      "source": [
        "import jax.numpy as jnp\n",
        "\n",
        "def model(params, x):\n",
        "  w, b = params\n",
        "  return jnp.dot(x, w) + b # y = X.W + b\n",
        "\n",
        "# Let's initialize parameters (same as S in the prev. example, stat init)\n",
        "params = (jnp.array([1.0, 2.0]), jnp.array([3.0])) #(w, b)\n",
        "\n",
        "def update_params(params, grads, lr):\n",
        "  w, b = params\n",
        "  dw, db = grads\n",
        "  new_w = w - lr * dw\n",
        "  new_b = b - lr * db\n",
        "  return (new_w, new_b)\n",
        "\n",
        "# Example of gradients (arbitrary)\n",
        "grads = (jnp.array([0.1, 0.2]), jnp.array(0.4))\n",
        "\n",
        "#now we update the parameters (Updating the state )\n",
        "new_params = update_params(params, grads, lr=0.1)\n",
        "new_params"
      ],
      "metadata": {
        "colab": {
          "base_uri": "https://localhost:8080/"
        },
        "id": "a7FPprpVkjM1",
        "outputId": "a814b7e7-e7eb-4698-df09-2bc49fb8d875"
      },
      "execution_count": 5,
      "outputs": [
        {
          "output_type": "execute_result",
          "data": {
            "text/plain": [
              "(Array([0.99, 1.98], dtype=float32), Array([2.96], dtype=float32))"
            ]
          },
          "metadata": {},
          "execution_count": 5
        }
      ]
    },
    {
      "cell_type": "code",
      "source": [],
      "metadata": {
        "id": "icLGLKFCkjKC"
      },
      "execution_count": null,
      "outputs": []
    },
    {
      "cell_type": "code",
      "source": [],
      "metadata": {
        "id": "oH9CWyJKkFa8"
      },
      "execution_count": 3,
      "outputs": []
    }
  ]
}